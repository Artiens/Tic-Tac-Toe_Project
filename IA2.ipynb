{
 "cells": [
  {
   "cell_type": "code",
   "execution_count": 13,
   "metadata": {},
   "outputs": [
    {
     "name": "stdout",
     "output_type": "stream",
     "text": [
      "Accuracy: 0.916\n"
     ]
    },
    {
     "data": {
      "image/png": "[encoded data removed]",
      "text/plain": [
       "<Figure size 640x480 with 1 Axes>"
      ]
     },
     "metadata": {},
     "output_type": "display_data"
    }
   ],
   "source": [
    "import pandas as pd\n",
    "from sklearn.tree import DecisionTreeClassifier\n",
    "from sklearn.model_selection import train_test_split\n",
    "from sklearn.metrics import accuracy_score\n",
    "import os \n",
    "import torch\n",
    "import torch.nn as nn\n",
    "import torch.optim as optim\n",
    "import numpy as np\n",
    "from sklearn.preprocessing import LabelEncoder\n",
    "import matplotlib.pyplot as plt\n",
    "import os\n",
    "import Stat_functions as sf\n",
    "if __name__ == \"__main__\":\n",
    "# Define the name of the file\n",
    "    repertoire_courant = os.getcwd()\n",
    "\n",
    "    nom_fichier_csv = \"tictactoe.csv\"\n",
    "    # Obtenez le chemin complet du fichier CSV en utilisant os.path.join pour concaténer le dossier actuel avec le nom du fichier\n",
    "    chemin_fichier_csv = os.path.join(repertoire_courant, nom_fichier_csv)\n",
    "    with open(chemin_fichier_csv, \"r\", newline=\"\") as file:\n",
    "        data = pd.read_csv(chemin_fichier_csv, delimiter=';', encoding='utf-8', header=0)\n",
    "        # Charger les données depuis votre fichier ou source de données\n",
    "        \n",
    "        # Création d'un dictionnaire de mapping numérique pour les positions\n",
    "        position_mapping = {\n",
    "            \"?\" : 0,\n",
    "            \"(0, 0)\": 1,\n",
    "            \"(0, 1)\": 2,\n",
    "            \"(0, 2)\": 3,\n",
    "            \"(1, 0)\": 4,\n",
    "            \"(1, 1)\": 5,\n",
    "            \"(1, 2)\": 6,\n",
    "            \"(2, 0)\": 7,\n",
    "            \"(2, 1)\": 8,\n",
    "            \"(2, 2)\": 9,\n",
    "            # \"win\": 10,\n",
    "            # \"loss\": 11,\n",
    "            # \"draw\":12\n",
    "        }\n",
    "\n",
    "        # Transformation des coordonnées en valeurs numériques\n",
    "        for col in data.keys():\n",
    "            if col != 'RESULT':\n",
    "                data[col] = [position_mapping[m] if m in position_mapping else position_mapping['?'] for m in data[col]]\n",
    "            \"\"\"else:\n",
    "                data[col] = [position_mapping[result] for result in data[col]]\"\"\"\n",
    "        # Diviser les données en caractéristiques (X) et étiquettes (Y)\n",
    "        X = data.iloc[:, :-1]  # Sélectionnez toutes les colonnes sauf la dernière (les résultats)\n",
    "        Y = data.iloc[:, -1]   # Sélectionnez la dernière colonne (les résultats)\n",
    "        # Diviser les données en ensembles d'entraînement et de test\n",
    "        X_train, X_test, y_train, y_test = train_test_split(X, Y, test_size=0.2)\n",
    "        \n",
    "        \n",
    "        # Créer et entraîner le modèle\n",
    "        model = DecisionTreeClassifier()\n",
    "        model.fit(X_train, y_train)\n",
    "\n",
    "        # Prédiction sur l'ensemble de test\n",
    "        predictions = model.predict(X_test)\n",
    "\n",
    "        # Évaluation de la précision du modèle\n",
    "        accuracy = accuracy_score(y_test, predictions)\n",
    "        print(\"Accuracy:\", accuracy)\n",
    "\n",
    "        stock = sf.winrate_first(data)\n",
    "        win = [t[0] for t in stock]\n",
    "        loss = [t[1] for t in stock]\n",
    "        draw = [t[2] for t in stock]\n",
    "        plt.bar(range(len(position_mapping.values())-1), win, width=0.2, label='WIN')\n",
    "        plt.bar([i + 0.2 for i in range(len(position_mapping.values())-1)], loss, width=0.2, label='LOSS')\n",
    "        plt.bar([i + 0.4 for i in range(len(position_mapping.values())-1)], draw, width=0.2, label='DRAW')\n",
    "\n",
    "        plt.xlabel('move')\n",
    "        plt.ylabel('Result')\n",
    "        plt.xticks([i + 0.3  for i in range(len(position_mapping)-1)], [x for x in position_mapping.values() if x != 0])\n",
    "        plt.legend(loc=\"upper right\", bbox_to_anchor=(1.30, 1))\n",
    "\n"
   ]
  }
 ],
 "metadata": {
  "kernelspec": {
   "display_name": "Python 3",
   "language": "python",
   "name": "python3"
  },
  "language_info": {
   "codemirror_mode": {
    "name": "ipython",
    "version": 3
   },
   "file_extension": ".py",
   "mimetype": "text/x-python",
   "name": "python",
   "nbconvert_exporter": "python",
   "pygments_lexer": "ipython3",
   "version": "3.9.13"
  }
 },
 "nbformat": 4,
 "nbformat_minor": 2
}
